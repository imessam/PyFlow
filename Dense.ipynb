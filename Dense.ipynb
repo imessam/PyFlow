{
 "cells": [
  {
   "cell_type": "code",
   "execution_count": 1,
   "metadata": {},
   "outputs": [],
   "source": [
    "import numpy as np"
   ]
  },
  {
   "cell_type": "code",
   "execution_count": 2,
   "metadata": {},
   "outputs": [
    {
     "name": "stdout",
     "output_type": "stream",
     "text": [
      "[[0.50427953 0.52135777]\n",
      " [0.49704083 0.48438815]\n",
      " [0.50295917 0.51561185]\n",
      " [0.49704083 0.48438815]\n",
      " [0.50295917 0.51561185]\n",
      " [0.49704083 0.48438815]\n",
      " [0.50295917 0.51561185]\n",
      " [0.49704083 0.48438815]]\n"
     ]
    }
   ],
   "source": [
    "from PyFlow.Layers import Dense\n",
    "\n",
    "X=np.array([[-1,-2,-4],[1,2,3],[-1,-2,-3],[1,2,3],[-1,-2,-3],[1,2,3],[-1,-2,-3],[1,2,3]])\n",
    "dense1=Dense(2,\"sigmoid\",1)\n",
    "dense2=Dense(3,\"sigmoid\",2)\n",
    "params1=dense1.init_weights(X.shape[1])\n",
    "A1,cache1=dense1.forward(X,params1)\n",
    "linear_cache1, activation_cache1,act1=cache1\n",
    "a1,W1,b1=linear_cache1\n",
    "print(A1)"
   ]
  },
  {
   "cell_type": "code",
   "execution_count": 6,
   "metadata": {},
   "outputs": [
    {
     "name": "stdout",
     "output_type": "stream",
     "text": [
      "[[0.50125045 0.49793564 0.49809121]\n",
      " [0.50127759 0.49804437 0.49828827]\n",
      " [0.50125387 0.4979528  0.49812142]\n",
      " [0.50127759 0.49804437 0.49828827]\n",
      " [0.50125387 0.4979528  0.49812142]\n",
      " [0.50127759 0.49804437 0.49828827]\n",
      " [0.50125387 0.4979528  0.49812142]\n",
      " [0.50127759 0.49804437 0.49828827]]\n"
     ]
    }
   ],
   "source": [
    "params2=dense2.init_weights(A1.shape[1])\n",
    "A2,cache2=dense2.forward(A1,params2)\n",
    "linear_cache2, activation_cache2,act2=cache2\n",
    "a2,W2,b2=linear_cache2\n",
    "print(A2)\n",
    "caches=[cache1,cache2]\n"
   ]
  },
  {
   "cell_type": "code",
   "execution_count": null,
   "metadata": {},
   "outputs": [],
   "source": []
  }
 ],
 "metadata": {
  "kernelspec": {
   "display_name": "Python 3",
   "language": "python",
   "name": "python3"
  },
  "language_info": {
   "codemirror_mode": {
    "name": "ipython",
    "version": 3
   },
   "file_extension": ".py",
   "mimetype": "text/x-python",
   "name": "python",
   "nbconvert_exporter": "python",
   "pygments_lexer": "ipython3",
   "version": "3.8.6"
  }
 },
 "nbformat": 4,
 "nbformat_minor": 4
}
