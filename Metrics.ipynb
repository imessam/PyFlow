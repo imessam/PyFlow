{
 "cells": [
  {
   "cell_type": "code",
   "execution_count": 1,
   "metadata": {},
   "outputs": [
    {
     "name": "stdout",
     "output_type": "stream",
     "text": [
      "Module imported\n"
     ]
    }
   ],
   "source": [
    "import numpy as np\n",
    "import PyFlow as pf"
   ]
  },
  {
   "cell_type": "code",
   "execution_count": 20,
   "metadata": {},
   "outputs": [],
   "source": [
    "class Metric():\n",
    "    \n",
    "    pass\n",
    "\n",
    "class BinaryAccuracy(Metric):\n",
    "    \n",
    "    def __init__(self):\n",
    "        pass\n",
    "    \n",
    "    def __call__(self,AL,Y):\n",
    "        \n",
    "        \n",
    "        m=Y.shape[0]\n",
    "        p = np.zeros((m,1))\n",
    "        \n",
    "        for i in range(0, AL.shape[0]):\n",
    "            if AL[i,0] >= 0.5:\n",
    "                p[i,0] = 1\n",
    "            else:\n",
    "                p[i,0] = 0\n",
    "    \n",
    "        print(\"Accuracy: \"  + str(np.sum((p == Y)/m)))\n",
    "        \n",
    "        return p\n",
    "\n",
    "\n",
    "class MeanSquaredError(Metric):\n",
    "    \n",
    "    \n",
    "    def __init__(self):\n",
    "        pass\n",
    "    \n",
    "    def __call__(self,AL,Y):\n",
    "        \n",
    "        \n",
    "        m=Y.shape[0]\n",
    "        p = AL\n",
    "        \n",
    "        \n",
    "    \n",
    "        print(\"MSE: \"  + str(np.sum((p - Y)**2/m)))\n",
    "        \n",
    "        return p\n",
    "\n",
    "\n",
    "class CategoricalAccuracy(Metric):\n",
    "    \n",
    "    def __init__(self):\n",
    "        pass\n",
    "    \n",
    "    def __call__(self,AL,Y):\n",
    "        \n",
    "        \n",
    "        m=Y.shape[0]*Y.shape[1]\n",
    "        p = np.zeros(Y.shape)\n",
    "        \n",
    "        \n",
    "        \n",
    "        for i in range(0, AL.shape[0]):\n",
    "            \n",
    "            maxIndex=np.argmax(AL[i,:])\n",
    "            p[i,maxIndex]=1\n",
    "        print(\"Accuracy: \"  + str(np.sum((p == Y)/m)))\n",
    "        \n",
    "        return p"
   ]
  },
  {
   "cell_type": "code",
   "execution_count": 22,
   "metadata": {},
   "outputs": [
    {
     "name": "stdout",
     "output_type": "stream",
     "text": [
      "Accuracy: 1.0\n"
     ]
    },
    {
     "data": {
      "text/plain": [
       "array([[ True,  True,  True],\n",
       "       [ True,  True,  True],\n",
       "       [ True,  True,  True]])"
      ]
     },
     "execution_count": 22,
     "metadata": {},
     "output_type": "execute_result"
    }
   ],
   "source": [
    "AL=np.array([[0.3,0.6,0.1],[0.1,0.1,0.8],[0.7,0.2,0.1]])\n",
    "Y=np.array([[0,1,0],[0,0,1],[1,0,0]])\n",
    "acc=CategoricalAccuracy()\n",
    "p=(acc(AL,Y))\n",
    "(p==Y)"
   ]
  },
  {
   "cell_type": "code",
   "execution_count": null,
   "metadata": {},
   "outputs": [],
   "source": []
  }
 ],
 "metadata": {
  "kernelspec": {
   "display_name": "Python 3",
   "language": "python",
   "name": "python3"
  },
  "language_info": {
   "codemirror_mode": {
    "name": "ipython",
    "version": 3
   },
   "file_extension": ".py",
   "mimetype": "text/x-python",
   "name": "python",
   "nbconvert_exporter": "python",
   "pygments_lexer": "ipython3",
   "version": "3.8.6"
  }
 },
 "nbformat": 4,
 "nbformat_minor": 4
}
