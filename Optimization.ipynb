{
 "cells": [
  {
   "cell_type": "code",
   "execution_count": 11,
   "metadata": {},
   "outputs": [],
   "source": [
    "import numpy as np"
   ]
  },
  {
   "cell_type": "code",
   "execution_count": 12,
   "metadata": {},
   "outputs": [],
   "source": [
    "from PyFlow.Layers import Dense\n",
    "from PyFlow.Backward import Backward\n",
    "from PyFlow.Activations import Softmax\n"
   ]
  },
  {
   "cell_type": "code",
   "execution_count": 19,
   "metadata": {},
   "outputs": [
    {
     "name": "stdout",
     "output_type": "stream",
     "text": [
      "{'W1': array([[ 0.01624345, -0.00611756],\n",
      "       [-0.00528172, -0.01072969]]), 'b1': array([[0., 0.]])}\n",
      "((array([[-1,  2],\n",
      "       [ 1,  2],\n",
      "       [-1,  2],\n",
      "       [ 1,  2],\n",
      "       [-1,  2],\n",
      "       [ 1,  2],\n",
      "       [-1,  2],\n",
      "       [ 1,  2]]), array([[ 0.01624345, -0.00611756],\n",
      "       [-0.00528172, -0.01072969]]), array([[0., 0.]])), array([[-0.02847858, -0.01617765],\n",
      "       [ 0.00400833, -0.02674109],\n",
      "       [-0.02847858, -0.01617765],\n",
      "       [ 0.00400833, -0.02674109],\n",
      "       [-0.02847858, -0.01617765],\n",
      "       [ 0.00400833, -0.02674109],\n",
      "       [-0.02847858, -0.01617765],\n",
      "       [ 0.00400833, -0.02674109]]), 'softmax')\n",
      "[[ 0.01624345 -0.00611756]\n",
      " [-0.00528172 -0.01072969]]\n"
     ]
    }
   ],
   "source": [
    "X=np.array([[-1,2],[1,2],[-1,2],[1,2],[-1,2],[1,2],[-1,2],[1,2]])\n",
    "Y=np.array([[1,2,3,4],[2,3,4,5],[3,4,5,6],[4,5,6,7],[5,6,7,8],[6,7,8,9],[7,8,9,10],[8,9,10,1]])\n",
    "dense1=Dense(2,\"softmax\",1)\n",
    "dense2=Dense(4,\"softmax\",2)\n",
    "params1=dense1.init_weights(X.shape[1])\n",
    "print(params1)\n",
    "A1,cache1=dense1.forward(X,params1)\n",
    "print(cache1)\n",
    "linear_cache1, activation_cache1,act1=cache1\n",
    "a1,W1,b1=linear_cache1\n",
    "print(W1)"
   ]
  },
  {
   "cell_type": "code",
   "execution_count": 14,
   "metadata": {},
   "outputs": [
    {
     "name": "stdout",
     "output_type": "stream",
     "text": [
      "[[ 0.01624345 -0.00611756]\n",
      " [-0.00528172 -0.01072969]\n",
      " [ 0.00865408 -0.02301539]\n",
      " [ 0.01744812 -0.00761207]]\n"
     ]
    }
   ],
   "source": [
    "params2=dense2.init_weights(A1.shape[1])\n",
    "A2,cache2=dense2.forward(A1,params2)\n",
    "linear_cache2, activation_cache2,act2=cache2\n",
    "a2,W2,b2=linear_cache2\n",
    "print(W2)\n",
    "caches=[cache1,cache2]"
   ]
  },
  {
   "cell_type": "code",
   "execution_count": 15,
   "metadata": {},
   "outputs": [],
   "source": [
    "back=Backward(A2,Y,caches)\n",
    "grads=back.backward()"
   ]
  },
  {
   "cell_type": "code",
   "execution_count": 16,
   "metadata": {},
   "outputs": [
    {
     "name": "stdout",
     "output_type": "stream",
     "text": [
      "{'W1': array([[ 0.01624345, -0.00611756],\n",
      "       [-0.00528172, -0.01072969]]), 'b1': array([[0., 0.]]), 'W2': array([[ 0.01624345, -0.00611756],\n",
      "       [-0.00528172, -0.01072969],\n",
      "       [ 0.00865408, -0.02301539],\n",
      "       [ 0.01744812, -0.00761207]]), 'b2': array([[0., 0., 0., 0.]])}\n"
     ]
    },
    {
     "data": {
      "text/plain": [
       "{'W1': array([[ 0.01623881, -0.00581165],\n",
       "        [-0.0052921 , -0.0111302 ]]),\n",
       " 'b1': array([[ 0.00015296, -0.00020026]]),\n",
       " 'W2': array([[ 0.01852966, -0.00384384],\n",
       "        [-0.00156693, -0.00702739],\n",
       "        [ 0.01379743, -0.01788452],\n",
       "        [ 0.02220531, -0.00282893]]),\n",
       " 'b2': array([[0.01821428, 0.02964286, 0.04107142, 0.03821419]])}"
      ]
     },
     "execution_count": 16,
     "metadata": {},
     "output_type": "execute_result"
    }
   ],
   "source": [
    "from PyFlow.Optimizers import SGD\n",
    "optim=SGD(0.01)\n",
    "paramaters={}\n",
    "paramaters.update(params1)\n",
    "paramaters.update(params2)\n",
    "print(paramaters)\n",
    "#print(grads)\n",
    "optim.update(paramaters,grads)"
   ]
  },
  {
   "cell_type": "code",
   "execution_count": 10,
   "metadata": {},
   "outputs": [
    {
     "data": {
      "text/plain": [
       "{'W1': array([[ 0.01623416, -0.00550573],\n",
       "        [-0.00530247, -0.01153072]]),\n",
       " 'b1': array([[ 0.00030592, -0.00040052]]),\n",
       " 'W2': array([[ 0.02081587, -0.00157012],\n",
       "        [ 0.00214785, -0.0033251 ],\n",
       "        [ 0.01894078, -0.01275366],\n",
       "        [ 0.02696251,  0.00195421]]),\n",
       " 'b2': array([[0.03642855, 0.05928572, 0.08214284, 0.07642838]])}"
      ]
     },
     "execution_count": 10,
     "metadata": {},
     "output_type": "execute_result"
    }
   ],
   "source": [
    "optim.update(paramaters,grads)"
   ]
  },
  {
   "cell_type": "code",
   "execution_count": null,
   "metadata": {},
   "outputs": [],
   "source": []
  }
 ],
 "metadata": {
  "kernelspec": {
   "display_name": "Python 3",
   "language": "python",
   "name": "python3"
  },
  "language_info": {
   "codemirror_mode": {
    "name": "ipython",
    "version": 3
   },
   "file_extension": ".py",
   "mimetype": "text/x-python",
   "name": "python",
   "nbconvert_exporter": "python",
   "pygments_lexer": "ipython3",
   "version": "3.8.6"
  }
 },
 "nbformat": 4,
 "nbformat_minor": 4
}
