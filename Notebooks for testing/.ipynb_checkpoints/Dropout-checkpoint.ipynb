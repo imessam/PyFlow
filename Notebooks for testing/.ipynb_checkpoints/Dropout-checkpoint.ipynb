{
 "cells": [
  {
   "cell_type": "code",
   "execution_count": 1,
   "metadata": {},
   "outputs": [
    {
     "name": "stdout",
     "output_type": "stream",
     "text": [
      "PyFlow imported\n"
     ]
    }
   ],
   "source": [
    "import numpy as np\n",
    "import PyFlowFW as pf"
   ]
  },
  {
   "cell_type": "code",
   "execution_count": 2,
   "metadata": {},
   "outputs": [
    {
     "name": "stdout",
     "output_type": "stream",
     "text": [
      "[[7 9 8 1]\n",
      " [7 2 5 1]\n",
      " [1 6 9 1]]\n"
     ]
    },
    {
     "data": {
      "text/plain": [
       "(array([[11.66666667,  0.        , 13.33333333,  1.66666667],\n",
       "        [ 0.        ,  0.        ,  0.        ,  1.66666667],\n",
       "        [ 1.66666667, 10.        , 15.        ,  1.66666667]]),\n",
       " array([[1.66666667, 0.        , 1.66666667, 1.66666667],\n",
       "        [0.        , 0.        , 0.        , 1.66666667],\n",
       "        [1.66666667, 1.66666667, 1.66666667, 1.66666667]]))"
      ]
     },
     "execution_count": 2,
     "metadata": {},
     "output_type": "execute_result"
    }
   ],
   "source": [
    "drop=pf.Layers.Dropout(0.6)\n",
    "\n",
    "y=np.random.randint(0,10,(3,4))\n",
    "print(y)\n",
    "\n",
    "drop.forward(y)"
   ]
  },
  {
   "cell_type": "code",
   "execution_count": null,
   "metadata": {},
   "outputs": [],
   "source": []
  },
  {
   "cell_type": "code",
   "execution_count": null,
   "metadata": {},
   "outputs": [],
   "source": []
  }
 ],
 "metadata": {
  "kernelspec": {
   "display_name": "Python 3",
   "language": "python",
   "name": "python3"
  },
  "language_info": {
   "codemirror_mode": {
    "name": "ipython",
    "version": 3
   },
   "file_extension": ".py",
   "mimetype": "text/x-python",
   "name": "python",
   "nbconvert_exporter": "python",
   "pygments_lexer": "ipython3",
   "version": "3.8.6"
  }
 },
 "nbformat": 4,
 "nbformat_minor": 4
}
