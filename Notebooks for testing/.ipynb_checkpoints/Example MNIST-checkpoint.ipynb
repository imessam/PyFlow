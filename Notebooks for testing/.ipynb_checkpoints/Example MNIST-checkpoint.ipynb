{
 "cells": [
  {
   "cell_type": "code",
   "execution_count": 1,
   "metadata": {},
   "outputs": [
    {
     "name": "stdout",
     "output_type": "stream",
     "text": [
      "PyFlow imported\n"
     ]
    }
   ],
   "source": [
    "import numpy as np\n",
    "import PyFlowFW as pf\n",
    "\n",
    "from mlxtend.data import loadlocal_mnist\n",
    "import platform\n",
    "import os"
   ]
  },
  {
   "cell_type": "code",
   "execution_count": 2,
   "metadata": {},
   "outputs": [],
   "source": [
    "def load_mnist(train_path,test_path):\n",
    "    X_train, Y_train = loadlocal_mnist(\n",
    "            images_path=os.path.join(train_path,'train-images.idx3-ubyte'), \n",
    "            labels_path=os.path.join(train_path,'train-labels.idx1-ubyte')\n",
    "            )\n",
    "    \n",
    "    X_test, Y_test = loadlocal_mnist(\n",
    "            images_path=os.path.join(test_path,'t10k-images.idx3-ubyte'), \n",
    "            labels_path=os.path.join(test_path,'t10k-labels.idx1-ubyte')\n",
    "            )\n",
    "    \n",
    "    return X_train,Y_train,X_test,Y_test"
   ]
  },
  {
   "cell_type": "code",
   "execution_count": 3,
   "metadata": {},
   "outputs": [
    {
     "name": "stdout",
     "output_type": "stream",
     "text": [
      "[2]\n"
     ]
    },
    {
     "data": {
      "text/plain": [
       "array([0., 0., 1., 0., 0., 0., 0., 0., 0., 0.])"
      ]
     },
     "execution_count": 3,
     "metadata": {},
     "output_type": "execute_result"
    }
   ],
   "source": [
    "dataLoader=pf.DataLoader.DataLoader()\n",
    "train_path=\"MNIST\\\\train\"\n",
    "test_path=\"MNIST\\\\test\"\n",
    "\n",
    "X_train,Y_train,X_test,Y_test=load_mnist(train_path,test_path)\n",
    "Y_train=np.reshape(Y_train,(Y_train.shape[0],1))\n",
    "Y_test=np.reshape(Y_test,(Y_test.shape[0],1))\n",
    "\n",
    "X_train=X_train/255.0\n",
    "X_test=X_test/255.0\n",
    "\n",
    "print(Y_train[5])\n",
    "\n",
    "Y_train=dataLoader.toOneHot(Y_train,10)\n",
    "Y_test=dataLoader.toOneHot(Y_test,10)\n",
    "\n",
    "Y_train[5]"
   ]
  },
  {
   "cell_type": "code",
   "execution_count": 4,
   "metadata": {},
   "outputs": [
    {
     "name": "stdout",
     "output_type": "stream",
     "text": [
      "18000\n",
      "42000\n",
      "units : 128 , activation : relu , layer no : 1\n",
      "units : 64 , activation : relu , layer no : 2\n",
      "units : 10 , activation : softmax , layer no : 3\n",
      "Training loss after epoch 0: 4.488649\n",
      "Accuracy: 0.011235955056179775\n",
      "Validation metric :\n",
      "Accuracy: 0.008111111111111112\n",
      "Training loss after epoch 1: 4.488637\n",
      "Accuracy: 0.00898876404494382\n",
      "Validation metric :\n",
      "Accuracy: 0.009316666666666668\n",
      "Training loss after epoch 2: 4.488620\n",
      "Accuracy: 0.012359550561797753\n",
      "Validation metric :\n",
      "Accuracy: 0.010422222222222223\n",
      "Training loss after epoch 3: 4.488603\n",
      "Accuracy: 0.012359550561797753\n",
      "Validation metric :\n",
      "Accuracy: 0.01185\n",
      "Training loss after epoch 4: 4.488585\n",
      "Accuracy: 0.011235955056179775\n",
      "Validation metric :\n",
      "Accuracy: 0.013183333333333335\n",
      "Training loss after epoch 5: 4.488567\n",
      "Accuracy: 0.011235955056179775\n",
      "Validation metric :\n",
      "Accuracy: 0.014322222222222224\n",
      "Training loss after epoch 6: 4.488553\n",
      "Accuracy: 0.008988764044943821\n",
      "Validation metric :\n",
      "Accuracy: 0.015311111111111112\n",
      "Training loss after epoch 7: 4.488535\n",
      "Accuracy: 0.010112359550561799\n",
      "Validation metric :\n",
      "Accuracy: 0.016383333333333333\n",
      "Training loss after epoch 8: 4.488516\n",
      "Accuracy: 0.011235955056179775\n",
      "Validation metric :\n",
      "Accuracy: 0.017544444444444446\n",
      "Training loss after epoch 9: 4.488494\n",
      "Accuracy: 0.012359550561797755\n",
      "Validation metric :\n",
      "Accuracy: 0.018500000000000003\n"
     ]
    },
    {
     "data": {
      "image/png": "[encoded data removed]",
      "text/plain": [
       "<Figure size 432x288 with 1 Axes>"
      ]
     },
     "metadata": {
      "needs_background": "light"
     },
     "output_type": "display_data"
    }
   ],
   "source": [
    "model=pf.Models.Sequential([\n",
    "    pf.Layers.Dense(128,\"relu\",1),\n",
    "    pf.Layers.Dense(64,\"relu\",2),\n",
    "    pf.Layers.Dense(10,\"softmax\",3)\n",
    "])\n",
    "\n",
    "model.compile(optimizer=pf.Optimizers.SGD(),loss=pf.Losses.CategoricalCrossEntropyLoss(),metric=pf.Metrics.CategoricalAccuracy())\n",
    "history=model.fit(X_train,Y_train,10,470,0.3)"
   ]
  },
  {
   "cell_type": "code",
   "execution_count": 5,
   "metadata": {},
   "outputs": [],
   "source": [
    "probas,p=model.predict(X_test,10)"
   ]
  },
  {
   "cell_type": "code",
   "execution_count": 6,
   "metadata": {},
   "outputs": [
    {
     "name": "stdout",
     "output_type": "stream",
     "text": [
      "Accuracy: 0.017530000000000004\n"
     ]
    },
    {
     "data": {
      "text/plain": [
       "array([[9.],\n",
       "       [8.],\n",
       "       [5.],\n",
       "       ...,\n",
       "       [4.],\n",
       "       [7.],\n",
       "       [4.]])"
      ]
     },
     "execution_count": 6,
     "metadata": {},
     "output_type": "execute_result"
    }
   ],
   "source": [
    "acc=pf.Metrics.CategoricalAccuracy()\n",
    "acc(probas,Y_test)"
   ]
  },
  {
   "cell_type": "code",
   "execution_count": null,
   "metadata": {},
   "outputs": [],
   "source": []
  }
 ],
 "metadata": {
  "kernelspec": {
   "display_name": "Python 3",
   "language": "python",
   "name": "python3"
  },
  "language_info": {
   "codemirror_mode": {
    "name": "ipython",
    "version": 3
   },
   "file_extension": ".py",
   "mimetype": "text/x-python",
   "name": "python",
   "nbconvert_exporter": "python",
   "pygments_lexer": "ipython3",
   "version": "3.8.6"
  }
 },
 "nbformat": 4,
 "nbformat_minor": 4
}
