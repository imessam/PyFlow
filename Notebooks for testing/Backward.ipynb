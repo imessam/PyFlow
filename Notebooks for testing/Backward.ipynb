{
 "cells": [
  {
   "cell_type": "code",
   "execution_count": 1,
   "metadata": {},
   "outputs": [],
   "source": [
    "import numpy as np\n",
    "from PyFlow.Layers import Dense\n",
    "from PyFlow.Backward import Backward\n",
    "from PyFlow.Activations import Softmax\n"
   ]
  },
  {
   "cell_type": "code",
   "execution_count": 2,
   "metadata": {},
   "outputs": [
    {
     "name": "stdout",
     "output_type": "stream",
     "text": [
      "[[ 0.01624345 -0.00611756]\n",
      " [-0.00528172 -0.01072969]]\n"
     ]
    }
   ],
   "source": [
    "\n",
    "X=np.array([[-1,2],[1,2],[-1,2],[1,2],[-1,2],[1,2],[-1,2],[1,2]])\n",
    "Y=np.array([[1,2,3,4],[2,3,4,5],[3,4,5,6],[4,5,6,7],[5,6,7,8],[6,7,8,9],[7,8,9,10],[8,9,10,1]])\n",
    "dense1=Dense(2,\"softmax\",1)\n",
    "dense2=Dense(4,\"softmax\",2)\n",
    "params1=dense1.init_weights(X.shape[1])\n",
    "A1,cache1=dense1.forward(X,params1)\n",
    "linear_cache1, activation_cache1,act1=cache1\n",
    "a1,W1,b1=linear_cache1\n",
    "print(W1)"
   ]
  },
  {
   "cell_type": "code",
   "execution_count": 3,
   "metadata": {},
   "outputs": [
    {
     "name": "stdout",
     "output_type": "stream",
     "text": [
      "[[ 0.01624345 -0.00611756]\n",
      " [-0.00528172 -0.01072969]\n",
      " [ 0.00865408 -0.02301539]\n",
      " [ 0.01744812 -0.00761207]]\n"
     ]
    }
   ],
   "source": [
    "params2=dense2.init_weights(A1.shape[1])\n",
    "A2,cache2=dense2.forward(A1,params2)\n",
    "linear_cache2, activation_cache2,act2=cache2\n",
    "a2,W2,b2=linear_cache2\n",
    "print(W2)\n",
    "caches=[cache1,cache2]"
   ]
  },
  {
   "cell_type": "code",
   "execution_count": 4,
   "metadata": {},
   "outputs": [
    {
     "data": {
      "text/plain": [
       "{'dA2': array([[ -8.00029615, -17.14279951, -26.28648997, -35.42984606],\n",
       "        [-17.14227093, -26.28580044, -35.42753903, -44.56983707],\n",
       "        [-26.28659064, -35.42845675, -44.57271781, -53.71619436],\n",
       "        [-35.42740505, -44.57157177, -53.7127398 , -62.85491739],\n",
       "        [-44.57288514, -53.71411399, -62.85894566, -72.00254265],\n",
       "        [-53.71253917, -62.8573431 , -71.99794056, -81.13999772],\n",
       "        [-62.85917964, -71.99977124, -81.1451735 , -90.28889095],\n",
       "        [-71.99767329, -81.14311443, -90.28314132,  -7.99967642]]),\n",
       " 'dA1': array([[-0.06033138,  0.07401385],\n",
       "        [-0.08150627,  0.10113868],\n",
       "        [-0.10269163,  0.12827188],\n",
       "        [-0.12386357,  0.15539426],\n",
       "        [-0.14505188,  0.18252992],\n",
       "        [-0.16622087,  0.20964984],\n",
       "        [-0.18741214,  0.23678795],\n",
       "        [-0.06212104,  0.24473303]]),\n",
       " 'dW2': array([[-0.22862085, -0.22737199],\n",
       "        [-0.37147833, -0.37022919],\n",
       "        [-0.51433519, -0.51308628],\n",
       "        [-0.47571945, -0.4783141 ]]),\n",
       " 'db2': array([[-1.82142757, -2.96428575, -4.10714197, -3.82141923]]),\n",
       " 'dA0': array([[-1.72141906e-04, -5.04541064e-05],\n",
       "        [-2.37726779e-04, -6.69012721e-05],\n",
       "        [-2.94911754e-04, -8.83634341e-05],\n",
       "        [-3.62679181e-04, -1.03485743e-04],\n",
       "        [-4.17681603e-04, -1.26272762e-04],\n",
       "        [-4.87631584e-04, -1.40070214e-04],\n",
       "        [-5.40451451e-04, -1.64182090e-04],\n",
       "        [-3.20609054e-04, -2.30644809e-04]]),\n",
       " 'dW1': array([[ 0.00046474, -0.03059184],\n",
       "        [ 0.00103783,  0.0400516 ]]),\n",
       " 'db1': array([[-0.01529592,  0.0200258 ]])}"
      ]
     },
     "execution_count": 4,
     "metadata": {},
     "output_type": "execute_result"
    }
   ],
   "source": [
    "back=Backward(A2,Y,caches)\n",
    "back.backward()"
   ]
  },
  {
   "cell_type": "code",
   "execution_count": 5,
   "metadata": {},
   "outputs": [],
   "source": [
    "soft=Softmax()"
   ]
  },
  {
   "cell_type": "code",
   "execution_count": 6,
   "metadata": {},
   "outputs": [],
   "source": [
    "Y=np.array([[1,2,3,4],[2,3,4,5],[3,4,5,6],[4,5,6,7],[5,6,7,8],[6,7,8,9],[7,8,9,10],[8,9,10,1]])\n",
    "a,y=soft(Y)"
   ]
  },
  {
   "cell_type": "code",
   "execution_count": 7,
   "metadata": {},
   "outputs": [
    {
     "data": {
      "text/plain": [
       "array([1., 1., 1., 1.])"
      ]
     },
     "execution_count": 7,
     "metadata": {},
     "output_type": "execute_result"
    }
   ],
   "source": [
    "np.sum(a,axis=0)"
   ]
  },
  {
   "cell_type": "code",
   "execution_count": null,
   "metadata": {},
   "outputs": [],
   "source": []
  }
 ],
 "metadata": {
  "kernelspec": {
   "display_name": "Python 3",
   "language": "python",
   "name": "python3"
  },
  "language_info": {
   "codemirror_mode": {
    "name": "ipython",
    "version": 3
   },
   "file_extension": ".py",
   "mimetype": "text/x-python",
   "name": "python",
   "nbconvert_exporter": "python",
   "pygments_lexer": "ipython3",
   "version": "3.8.6"
  }
 },
 "nbformat": 4,
 "nbformat_minor": 4
}
