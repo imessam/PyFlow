{
 "cells": [
  {
   "cell_type": "code",
   "execution_count": 1,
   "metadata": {},
   "outputs": [
    {
     "name": "stdout",
     "output_type": "stream",
     "text": [
      "PyFlow imported\n"
     ]
    }
   ],
   "source": [
    "import numpy as np\n",
    "import PyFlowFW as pf\n",
    "\n",
    "from mlxtend.data import loadlocal_mnist\n",
    "import platform\n",
    "import os"
   ]
  },
  {
   "cell_type": "code",
   "execution_count": 2,
   "metadata": {},
   "outputs": [],
   "source": [
    "def load_mnist(train_path,test_path):\n",
    "    X_train, Y_train = loadlocal_mnist(\n",
    "            images_path=os.path.join(train_path,'train-images.idx3-ubyte'), \n",
    "            labels_path=os.path.join(train_path,'train-labels.idx1-ubyte')\n",
    "            )\n",
    "    \n",
    "    X_test, Y_test = loadlocal_mnist(\n",
    "            images_path=os.path.join(test_path,'t10k-images.idx3-ubyte'), \n",
    "            labels_path=os.path.join(test_path,'t10k-labels.idx1-ubyte')\n",
    "            )\n",
    "    \n",
    "    return X_train,Y_train,X_test,Y_test"
   ]
  },
  {
   "cell_type": "code",
   "execution_count": 3,
   "metadata": {},
   "outputs": [
    {
     "name": "stdout",
     "output_type": "stream",
     "text": [
      "[2]\n"
     ]
    },
    {
     "data": {
      "text/plain": [
       "array([0., 0., 1., 0., 0., 0., 0., 0., 0., 0.])"
      ]
     },
     "execution_count": 3,
     "metadata": {},
     "output_type": "execute_result"
    }
   ],
   "source": [
    "dataLoader=pf.DataLoader.DataLoader()\n",
    "train_path=\"MNIST_dataset\\\\train\"\n",
    "test_path=\"MNIST_dataset\\\\test\"\n",
    "\n",
    "X_train,Y_train,X_test,Y_test=load_mnist(train_path,test_path)\n",
    "Y_train=np.reshape(Y_train,(Y_train.shape[0],1))\n",
    "Y_test=np.reshape(Y_test,(Y_test.shape[0],1))\n",
    "\n",
    "X_train=X_train/255.0\n",
    "X_test=X_test/255.0\n",
    "\n",
    "print(Y_train[5])\n",
    "\n",
    "Y_train=dataLoader.toOneHot(Y_train,10)\n",
    "Y_test=dataLoader.toOneHot(Y_test,10)\n",
    "\n",
    "Y_train[5]"
   ]
  },
  {
   "cell_type": "code",
   "execution_count": 4,
   "metadata": {},
   "outputs": [
    {
     "name": "stdout",
     "output_type": "stream",
     "text": [
      "18000\n",
      "42000\n",
      "units : 128 , activation : relu , layer no : 1\n",
      "units : 10 , activation : softmax , layer no : 2\n",
      "Training loss after epoch 0: 4.485609\n",
      "Accuracy: 0.030337078651685397\n",
      "Validation metric :\n",
      "Accuracy: 0.03423333333333334\n",
      "Training loss after epoch 1: 4.481238\n",
      "Accuracy: 0.048314606741573035\n",
      "Validation metric :\n",
      "Accuracy: 0.05329444444444445\n",
      "Training loss after epoch 2: 4.475310\n",
      "Accuracy: 0.05730337078651686\n",
      "Validation metric :\n",
      "Accuracy: 0.06147777777777778\n",
      "Training loss after epoch 3: 4.466703\n",
      "Accuracy: 0.05617977528089888\n",
      "Validation metric :\n",
      "Accuracy: 0.06543333333333333\n",
      "Training loss after epoch 4: 4.453891\n",
      "Accuracy: 0.058426966292134834\n",
      "Validation metric :\n",
      "Accuracy: 0.06696666666666667\n",
      "Training loss after epoch 5: 4.434792\n",
      "Accuracy: 0.060674157303370786\n",
      "Validation metric :\n",
      "Accuracy: 0.0669388888888889\n",
      "Training loss after epoch 6: 4.406234\n",
      "Accuracy: 0.060674157303370786\n",
      "Validation metric :\n",
      "Accuracy: 0.06639444444444445\n",
      "Training loss after epoch 7: 4.363694\n",
      "Accuracy: 0.06179775280898877\n",
      "Validation metric :\n",
      "Accuracy: 0.06584444444444446\n",
      "Training loss after epoch 8: 4.300871\n",
      "Accuracy: 0.06179775280898877\n",
      "Validation metric :\n",
      "Accuracy: 0.06565000000000001\n",
      "Training loss after epoch 9: 4.210442\n",
      "Accuracy: 0.06404494382022473\n",
      "Validation metric :\n",
      "Accuracy: 0.0665\n",
      "Training loss after epoch 10: 4.089806\n",
      "Accuracy: 0.06629213483146068\n",
      "Validation metric :\n",
      "Accuracy: 0.06809444444444444\n"
     ]
    },
    {
     "data": {
      "image/png": "[encoded data removed]",
      "text/plain": [
       "<Figure size 432x288 with 1 Axes>"
      ]
     },
     "metadata": {
      "needs_background": "light"
     },
     "output_type": "display_data"
    }
   ],
   "source": [
    "model=pf.Models.Sequential([\n",
    "    pf.Layers.Dense(128,\"relu\",1),\n",
    "    pf.Layers.Dense(10,\"softmax\",2)\n",
    "])\n",
    "\n",
    "model.compile(optimizer=pf.Optimizers.SGD(),loss=pf.Losses.CategoricalCrossEntropyLoss(),metric=pf.Metrics.CategoricalAccuracy())\n",
    "history=model.fit(X_train,Y_train,11,470,0.3)"
   ]
  },
  {
   "cell_type": "code",
   "execution_count": 7,
   "metadata": {},
   "outputs": [],
   "source": [
    "probas,p=model.predict(X_test,10)"
   ]
  },
  {
   "cell_type": "code",
   "execution_count": 8,
   "metadata": {},
   "outputs": [
    {
     "name": "stdout",
     "output_type": "stream",
     "text": [
      "Accuracy: 0.06865000000000002\n"
     ]
    },
    {
     "data": {
      "text/plain": [
       "array([[7.],\n",
       "       [2.],\n",
       "       [1.],\n",
       "       ...,\n",
       "       [9.],\n",
       "       [1.],\n",
       "       [6.]])"
      ]
     },
     "execution_count": 8,
     "metadata": {},
     "output_type": "execute_result"
    }
   ],
   "source": [
    "acc=pf.Metrics.CategoricalAccuracy()\n",
    "acc(probas,Y_test)"
   ]
  },
  {
   "cell_type": "code",
   "execution_count": null,
   "metadata": {},
   "outputs": [],
   "source": []
  }
 ],
 "metadata": {
  "kernelspec": {
   "display_name": "Python 3",
   "language": "python",
   "name": "python3"
  },
  "language_info": {
   "codemirror_mode": {
    "name": "ipython",
    "version": 3
   },
   "file_extension": ".py",
   "mimetype": "text/x-python",
   "name": "python",
   "nbconvert_exporter": "python",
   "pygments_lexer": "ipython3",
   "version": "3.8.6"
  }
 },
 "nbformat": 4,
 "nbformat_minor": 4
}
