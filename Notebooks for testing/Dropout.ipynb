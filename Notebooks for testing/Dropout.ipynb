{
 "cells": [
  {
   "cell_type": "code",
   "execution_count": 1,
   "metadata": {},
   "outputs": [
    {
     "name": "stdout",
     "output_type": "stream",
     "text": [
      "Module imported\n"
     ]
    }
   ],
   "source": [
    "import numpy as np\n",
    "import PyFlow as pf"
   ]
  },
  {
   "cell_type": "code",
   "execution_count": 3,
   "metadata": {},
   "outputs": [
    {
     "name": "stdout",
     "output_type": "stream",
     "text": [
      "[[7 0 8 0]\n",
      " [2 9 2 5]\n",
      " [3 3 9 7]]\n"
     ]
    },
    {
     "data": {
      "text/plain": [
       "(array([[11.66666667,  0.        ,  0.        ,  0.        ],\n",
       "        [ 3.33333333, 15.        ,  3.33333333,  8.33333333],\n",
       "        [ 5.        ,  0.        , 15.        , 11.66666667]]),\n",
       " array([[1.66666667, 0.        , 0.        , 1.66666667],\n",
       "        [1.66666667, 1.66666667, 1.66666667, 1.66666667],\n",
       "        [1.66666667, 0.        , 1.66666667, 1.66666667]]))"
      ]
     },
     "execution_count": 3,
     "metadata": {},
     "output_type": "execute_result"
    }
   ],
   "source": [
    "drop=pf.Layers.Dropout(0.6)\n",
    "\n",
    "y=np.random.randint(0,10,(3,4))\n",
    "print(y)\n",
    "\n",
    "drop.forward(y)"
   ]
  },
  {
   "cell_type": "code",
   "execution_count": null,
   "metadata": {},
   "outputs": [],
   "source": []
  },
  {
   "cell_type": "code",
   "execution_count": null,
   "metadata": {},
   "outputs": [],
   "source": []
  }
 ],
 "metadata": {
  "kernelspec": {
   "display_name": "Python 3",
   "language": "python",
   "name": "python3"
  },
  "language_info": {
   "codemirror_mode": {
    "name": "ipython",
    "version": 3
   },
   "file_extension": ".py",
   "mimetype": "text/x-python",
   "name": "python",
   "nbconvert_exporter": "python",
   "pygments_lexer": "ipython3",
   "version": "3.8.6"
  }
 },
 "nbformat": 4,
 "nbformat_minor": 4
}
