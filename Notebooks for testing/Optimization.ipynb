{
 "cells": [
  {
   "cell_type": "code",
   "execution_count": 1,
   "metadata": {},
   "outputs": [],
   "source": [
    "import numpy as np"
   ]
  },
  {
   "cell_type": "code",
   "execution_count": 2,
   "metadata": {},
   "outputs": [
    {
     "name": "stdout",
     "output_type": "stream",
     "text": [
      "Module imported\n"
     ]
    }
   ],
   "source": [
    "from PyFlow.Layers import Dense\n",
    "from PyFlow.Backward import Backward\n",
    "from PyFlow.Activations import Softmax\n",
    "from PyFlow.Losses import BinaryCrossEntropyLoss"
   ]
  },
  {
   "cell_type": "code",
   "execution_count": 3,
   "metadata": {},
   "outputs": [
    {
     "name": "stdout",
     "output_type": "stream",
     "text": [
      "{'W1': array([[ 0.01624345, -0.00611756],\n",
      "       [-0.00528172, -0.01072969]]), 'b1': array([[0., 0.]])}\n",
      "((array([[-1,  2],\n",
      "       [ 1,  2],\n",
      "       [-1,  2],\n",
      "       [ 1,  2],\n",
      "       [-1,  2],\n",
      "       [ 1,  2],\n",
      "       [-1,  2],\n",
      "       [ 1,  2]]), array([[ 0.01624345, -0.00611756],\n",
      "       [-0.00528172, -0.01072969]]), array([[0., 0.]])), array([[-0.02847858, -0.01617765],\n",
      "       [ 0.00400833, -0.02674109],\n",
      "       [-0.02847858, -0.01617765],\n",
      "       [ 0.00400833, -0.02674109],\n",
      "       [-0.02847858, -0.01617765],\n",
      "       [ 0.00400833, -0.02674109],\n",
      "       [-0.02847858, -0.01617765],\n",
      "       [ 0.00400833, -0.02674109]]), 'relu')\n",
      "[[ 0.01624345 -0.00611756]\n",
      " [-0.00528172 -0.01072969]]\n"
     ]
    }
   ],
   "source": [
    "X=np.array([[-1,2],[1,2],[-1,2],[1,2],[-1,2],[1,2],[-1,2],[1,2]])\n",
    "Y=np.array([[1],[2],[3],[4],[5],[6],[7],[8]])\n",
    "dense1=Dense(2,\"relu\",1)\n",
    "dense2=Dense(1,\"sigmoid\",2)\n",
    "params1=dense1.init_weights(X.shape[1])\n",
    "print(params1)\n",
    "A1,cache1=dense1.forward(X,params1)\n",
    "print(cache1)\n",
    "linear_cache1, activation_cache1,act1=cache1\n",
    "a1,W1,b1=linear_cache1\n",
    "print(W1)"
   ]
  },
  {
   "cell_type": "code",
   "execution_count": 4,
   "metadata": {},
   "outputs": [
    {
     "name": "stdout",
     "output_type": "stream",
     "text": [
      "{'W2': array([[ 0.01624345, -0.00611756]]), 'b2': array([[0.]])}\n"
     ]
    }
   ],
   "source": [
    "params2=dense2.init_weights(A1.shape[1])\n",
    "A2,cache2=dense2.forward(A1,params2)\n",
    "linear_cache2, activation_cache2,act2=cache2\n",
    "a2,W2,b2=linear_cache2\n",
    "print(params2)\n",
    "caches=[cache1,cache2]"
   ]
  },
  {
   "cell_type": "code",
   "execution_count": 5,
   "metadata": {},
   "outputs": [],
   "source": [
    "cost=BinaryCrossEntropyLoss()\n",
    "cost,grad=cost.compute_cost(A2,Y)\n"
   ]
  },
  {
   "cell_type": "code",
   "execution_count": 6,
   "metadata": {},
   "outputs": [
    {
     "name": "stdout",
     "output_type": "stream",
     "text": [
      "{'dA2': array([[ -2.        ],\n",
      "       [ -5.9999349 ],\n",
      "       [-10.        ],\n",
      "       [-13.99993491],\n",
      "       [-18.        ],\n",
      "       [-21.99993491],\n",
      "       [-26.        ],\n",
      "       [-29.99993492]]), 'dA1': array([[-0.00812173,  0.00305878],\n",
      "       [-0.02436492,  0.00917625],\n",
      "       [-0.04060863,  0.01529391],\n",
      "       [-0.05685182,  0.02141137],\n",
      "       [-0.07309554,  0.02752904],\n",
      "       [-0.08933873,  0.0336465 ],\n",
      "       [-0.10558245,  0.03976417],\n",
      "       [-0.12182564,  0.04588163]]), 'dW2': array([[-0.0090187,  0.       ]]), 'db2': array([[-3.99999186]]), 'dA0': array([[ 0.        ,  0.        ],\n",
      "       [-0.00039577,  0.00014905],\n",
      "       [ 0.        ,  0.        ],\n",
      "       [-0.00092347,  0.00034779],\n",
      "       [ 0.        ,  0.        ],\n",
      "       [-0.00145117,  0.00054654],\n",
      "       [ 0.        ,  0.        ],\n",
      "       [-0.00197887,  0.00074528]]), 'dW1': array([[-0.03654764, -0.07309528],\n",
      "       [ 0.        ,  0.        ]]), 'db1': array([[-0.03654764,  0.        ]])}\n"
     ]
    }
   ],
   "source": [
    "back=Backward(A2,Y,caches,grad)\n",
    "grads=back.backward()\n",
    "print(grads)"
   ]
  },
  {
   "cell_type": "code",
   "execution_count": 13,
   "metadata": {},
   "outputs": [
    {
     "data": {
      "text/plain": [
       "{'W1': array([[-0.07736642, -0.10069623],\n",
       "        [-0.03443071, -0.03048247]]),\n",
       " 'b1': array([[-0.03134616, -0.06487402]]),\n",
       " 'W2': array([[-0.06692288, -0.06226911]]),\n",
       " 'b2': array([[-0.0913503]])}"
      ]
     },
     "execution_count": 13,
     "metadata": {},
     "output_type": "execute_result"
    }
   ],
   "source": [
    "from PyFlow.Optimizers import Adam\n",
    "optim=Adam(0.001,0.9,0.999)\n",
    "paramaters={}\n",
    "paramaters.update(params1)\n",
    "paramaters.update(params2)\n",
    "optim.update(paramaters,grads)"
   ]
  },
  {
   "cell_type": "code",
   "execution_count": 14,
   "metadata": {},
   "outputs": [
    {
     "data": {
      "text/plain": [
       "{'W1': array([[-2924.81416045, -2982.57312831],\n",
       "        [ -396.36046319,  -232.84306236]]),\n",
       " 'b1': array([[ -441.28700814, -1480.50628766]]),\n",
       " 'W2': array([[-2339.93063648, -1144.23146831]]),\n",
       " 'b2': array([[-2792.46479878]])}"
      ]
     },
     "execution_count": 14,
     "metadata": {},
     "output_type": "execute_result"
    }
   ],
   "source": [
    "optim.update(paramaters,grads)"
   ]
  },
  {
   "cell_type": "code",
   "execution_count": null,
   "metadata": {},
   "outputs": [],
   "source": []
  },
  {
   "cell_type": "code",
   "execution_count": null,
   "metadata": {},
   "outputs": [],
   "source": []
  },
  {
   "cell_type": "code",
   "execution_count": null,
   "metadata": {},
   "outputs": [],
   "source": []
  }
 ],
 "metadata": {
  "kernelspec": {
   "display_name": "Python 3",
   "language": "python",
   "name": "python3"
  },
  "language_info": {
   "codemirror_mode": {
    "name": "ipython",
    "version": 3
   },
   "file_extension": ".py",
   "mimetype": "text/x-python",
   "name": "python",
   "nbconvert_exporter": "python",
   "pygments_lexer": "ipython3",
   "version": "3.8.6"
  }
 },
 "nbformat": 4,
 "nbformat_minor": 4
}
