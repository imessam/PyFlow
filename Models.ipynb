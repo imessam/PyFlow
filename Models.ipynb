{
 "cells": [
  {
   "cell_type": "code",
   "execution_count": 1,
   "metadata": {},
   "outputs": [
    {
     "name": "stdout",
     "output_type": "stream",
     "text": [
      "Module imported\n"
     ]
    }
   ],
   "source": [
    "import numpy as np\n",
    "import PyFlow as pf\n"
   ]
  },
  {
   "cell_type": "code",
   "execution_count": 2,
   "metadata": {},
   "outputs": [],
   "source": [
    "class Model():\n",
    "    pass\n"
   ]
  },
  {
   "cell_type": "code",
   "execution_count": 18,
   "metadata": {},
   "outputs": [],
   "source": [
    "class Sequential(Model):\n",
    "    \n",
    "    def __init__(self,*args,**kwargs):\n",
    "        \n",
    "        self.layers=args[0]\n",
    "        self.parameters={}\n",
    "    \n",
    "    def printLayers(self):\n",
    "        \n",
    "        for layer in self.layers:\n",
    "            layer.printLayer()\n",
    "    \n",
    "    def init_params(self,input_shape):\n",
    "        \n",
    "        paramsDict={}\n",
    "        paramsList=[]\n",
    "        in_shape=input_shape\n",
    "        \n",
    "        for i,layer in enumerate(self.layers):\n",
    "            param=layer.init_weights(in_shape)\n",
    "            paramsDict.update(param)\n",
    "            paramsList.append(param)\n",
    "            in_shape=layer.getUnits()\n",
    "        \n",
    "        return paramsList,paramsDict\n",
    "    \n",
    "    def forward(self,X,parameters):\n",
    "        \n",
    "        A=X\n",
    "        L=len(self.layers)\n",
    "        caches=[]\n",
    "        \n",
    "        for i,layer in enumerate(self.layers):\n",
    "            A,cache=layer.forward(A,parameters[i])\n",
    "            caches.append(cache)\n",
    "        \n",
    "        return A ,caches\n",
    "    \n",
    "    def backward(self,AL,Y,caches):\n",
    "        \n",
    "        back=pf.Backward.Backward(AL,Y,caches)\n",
    "        grads=back.backward()\n",
    "        \n",
    "        return grads\n",
    "    \n",
    "    def update(self,alpha,parameters,grads):\n",
    "        \n",
    "        optim=pf.Optimizers.SGD(alpha)\n",
    "        parameters_new=optim.update(parameters,grads)\n",
    "        \n",
    "        return parameters_new\n",
    "        \n",
    "        "
   ]
  },
  {
   "cell_type": "code",
   "execution_count": 20,
   "metadata": {},
   "outputs": [
    {
     "name": "stdout",
     "output_type": "stream",
     "text": [
      "units : 2 , activation : softmax , layer no : 1\n",
      "units : 4 , activation : softmax , layer no : 2\n"
     ]
    },
    {
     "data": {
      "text/plain": [
       "{'W1': array([[ 0.01623881, -0.00581165],\n",
       "        [-0.0052921 , -0.0111302 ]]),\n",
       " 'b1': array([[ 0.00015296, -0.00020026]]),\n",
       " 'W2': array([[ 0.01852966, -0.00384384],\n",
       "        [-0.00156693, -0.00702739],\n",
       "        [ 0.01379743, -0.01788452],\n",
       "        [ 0.02220531, -0.00282893]]),\n",
       " 'b2': array([[0.01821428, 0.02964286, 0.04107142, 0.03821419]])}"
      ]
     },
     "execution_count": 20,
     "metadata": {},
     "output_type": "execute_result"
    }
   ],
   "source": [
    "X=np.array([[-1,2],[1,2],[-1,2],[1,2],[-1,2],[1,2],[-1,2],[1,2]])\n",
    "Y=np.array([[1,2,3,4],[2,3,4,5],[3,4,5,6],[4,5,6,7],[5,6,7,8],[6,7,8,9],[7,8,9,10],[8,9,10,1]])\n",
    "model=Sequential([pf.Layers.Dense(2,\"softmax\",1),\n",
    "                  pf.Layers.Dense(4,\"softmax\",2)])\n",
    "model.printLayers()\n",
    "paramsList,paramsDict=model.init_params(X.shape[1])\n",
    "A,caches=model.forward(X,paramsList)\n",
    "grads=model.backward(A,Y,caches)\n",
    "model.update(0.01,paramsDict,grads)"
   ]
  },
  {
   "cell_type": "code",
   "execution_count": null,
   "metadata": {},
   "outputs": [],
   "source": []
  }
 ],
 "metadata": {
  "kernelspec": {
   "display_name": "Python 3",
   "language": "python",
   "name": "python3"
  },
  "language_info": {
   "codemirror_mode": {
    "name": "ipython",
    "version": 3
   },
   "file_extension": ".py",
   "mimetype": "text/x-python",
   "name": "python",
   "nbconvert_exporter": "python",
   "pygments_lexer": "ipython3",
   "version": "3.8.6"
  }
 },
 "nbformat": 4,
 "nbformat_minor": 4
}
