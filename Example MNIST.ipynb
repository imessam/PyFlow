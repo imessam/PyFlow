{
 "cells": [
  {
   "cell_type": "code",
   "execution_count": 1,
   "metadata": {},
   "outputs": [
    {
     "name": "stdout",
     "output_type": "stream",
     "text": [
      "Module imported\n"
     ]
    }
   ],
   "source": [
    "import numpy as np\n",
    "import PyFlow as pf\n",
    "\n",
    "from mlxtend.data import loadlocal_mnist\n",
    "import platform\n",
    "import os"
   ]
  },
  {
   "cell_type": "code",
   "execution_count": 2,
   "metadata": {},
   "outputs": [],
   "source": [
    "def load_mnist(train_path,test_path):\n",
    "    X_train, Y_train = loadlocal_mnist(\n",
    "            images_path=os.path.join(train_path,'train-images.idx3-ubyte'), \n",
    "            labels_path=os.path.join(train_path,'train-labels.idx1-ubyte')\n",
    "            )\n",
    "    \n",
    "    X_test, Y_test = loadlocal_mnist(\n",
    "            images_path=os.path.join(test_path,'t10k-images.idx3-ubyte'), \n",
    "            labels_path=os.path.join(test_path,'t10k-labels.idx1-ubyte')\n",
    "            )\n",
    "    \n",
    "    return X_train,Y_train,X_test,Y_test"
   ]
  },
  {
   "cell_type": "code",
   "execution_count": 8,
   "metadata": {},
   "outputs": [
    {
     "name": "stdout",
     "output_type": "stream",
     "text": [
      "[2]\n"
     ]
    },
    {
     "data": {
      "text/plain": [
       "array([0., 0., 1., 0., 0., 0., 0., 0., 0., 0.])"
      ]
     },
     "execution_count": 8,
     "metadata": {},
     "output_type": "execute_result"
    }
   ],
   "source": [
    "dataLoader=pf.DataLoader.DataLoader()\n",
    "train_path=\"MNIST\\\\train\"\n",
    "test_path=\"MNIST\\\\test\"\n",
    "\n",
    "X_train,Y_train,X_test,Y_test=load_mnist(train_path,test_path)\n",
    "Y_train=np.reshape(Y_train,(Y_train.shape[0],1))\n",
    "Y_test=np.reshape(Y_test,(Y_test.shape[0],1))\n",
    "\n",
    "X_train=X_train/255.0\n",
    "X_test=X_test/255.0\n",
    "\n",
    "print(Y_train[5])\n",
    "\n",
    "Y_train=dataLoader.toOneHot(Y_train,10)\n",
    "Y_test=dataLoader.toOneHot(Y_test,10)\n",
    "\n",
    "Y_train[5]"
   ]
  },
  {
   "cell_type": "code",
   "execution_count": null,
   "metadata": {},
   "outputs": [],
   "source": []
  }
 ],
 "metadata": {
  "kernelspec": {
   "display_name": "Python 3",
   "language": "python",
   "name": "python3"
  },
  "language_info": {
   "codemirror_mode": {
    "name": "ipython",
    "version": 3
   },
   "file_extension": ".py",
   "mimetype": "text/x-python",
   "name": "python",
   "nbconvert_exporter": "python",
   "pygments_lexer": "ipython3",
   "version": "3.8.6"
  }
 },
 "nbformat": 4,
 "nbformat_minor": 4
}
